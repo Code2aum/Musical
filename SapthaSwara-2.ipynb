{
  "nbformat": 4,
  "nbformat_minor": 0,
  "metadata": {
    "colab": {
      "provenance": [],
      "gpuType": "T4"
    },
    "kernelspec": {
      "name": "python3",
      "display_name": "Python 3"
    },
    "language_info": {
      "name": "python"
    },
    "accelerator": "GPU"
  },
  "cells": [
    {
      "cell_type": "code",
      "execution_count": null,
      "metadata": {
        "id": "ZwCU6ga_idPW"
      },
      "outputs": [],
      "source": [
        "!pip install comet_ml > /dev/null 2>&1\n",
        "import comet_ml\n",
        "# TODO: ENTER YOUR API KEY HERE!! instructions above\n",
        "COMET_API_KEY = \"\"\n",
        "\n",
        "# Import PyTorch and other relevant libraries\n",
        "import torch\n",
        "import torch.nn as nn\n",
        "import torch.optim as optim\n",
        "\n",
        "# Download and import the MIT Introduction to Deep Learning package\n",
        "!pip install mitdeeplearning --quiet\n",
        "import mitdeeplearning as mdl\n",
        "\n",
        "# Import all remaining packages\n",
        "import numpy as np\n",
        "import os\n",
        "import time\n",
        "import functools\n",
        "from IPython import display as ipythondisplay\n",
        "from tqdm import tqdm\n",
        "from scipy.io.wavfile import write\n",
        "!apt-get install abcmidi timidity > /dev/null 2>&1\n",
        "\n",
        "\n",
        "# Check that we are using a GPU, if not switch runtimes\n",
        "#   using Runtime > Change Runtime Type > GPU\n",
        "assert torch.cuda.is_available(), \"Please enable GPU from runtime settings\"\n",
        "assert COMET_API_KEY != \"\", \"Please insert your Comet API Key\""
      ]
    },
    {
      "cell_type": "code",
      "source": [
        "# Download the dataset\n",
        "songs = mdl.lab1.load_training_data()\n",
        "\n",
        "# Print one of the songs to inspect it in greater detail!\n",
        "example_song = songs[0]\n",
        "print(\"\\nExample song: \")\n",
        "print(example_song)"
      ],
      "metadata": {
        "id": "CcsF1gUUkTuV"
      },
      "execution_count": null,
      "outputs": []
    },
    {
      "cell_type": "code",
      "source": [
        "# Convert the ABC notation to audio file and listen to it\n",
        "mdl.lab1.play_song(example_song)"
      ],
      "metadata": {
        "id": "9SI-5x1tkYC8"
      },
      "execution_count": null,
      "outputs": []
    },
    {
      "cell_type": "code",
      "source": [
        "# Join our list of song strings into a single string containing all songs\n",
        "songs_joined = \"\\n\\n\".join(songs)\n",
        "\n",
        "# Find all unique characters in the joined string\n",
        "vocab = sorted(set(songs_joined))\n",
        "print(\"There are\", len(vocab), \"unique characters in the dataset\")"
      ],
      "metadata": {
        "id": "qQlEf2H0kc3I"
      },
      "execution_count": null,
      "outputs": []
    },
    {
      "cell_type": "code",
      "source": [
        "### Define numerical representation of text ###\n",
        "\n",
        "# Create a mapping from character to unique index.\n",
        "# For example, to get the index of the character \"d\",\n",
        "#   we can evaluate `char2idx[\"d\"]`.\n",
        "char2idx = {u: i for i, u in enumerate(vocab)}\n",
        "\n",
        "# Create a mapping from indices to characters. This is\n",
        "#   the inverse of char2idx and allows us to convert back\n",
        "#   from unique index to the character in our vocabulary.\n",
        "idx2char = np.array(vocab)"
      ],
      "metadata": {
        "id": "iLI27l72knm-"
      },
      "execution_count": null,
      "outputs": []
    },
    {
      "cell_type": "code",
      "source": [
        "print('{')\n",
        "for char, _ in zip(char2idx, range(20)):\n",
        "    print('  {:4s}: {:3d},'.format(repr(char), char2idx[char]))\n",
        "print('  ...\\n}')"
      ],
      "metadata": {
        "id": "d6GdBTwKkqEm"
      },
      "execution_count": null,
      "outputs": []
    },
    {
      "cell_type": "code",
      "source": [
        "### Vectorize the songs string ###\n",
        "\n",
        "'''TODO: Write a function to convert the all songs string to a vectorized\n",
        "    (i.e., numeric) representation. Use the appropriate mapping\n",
        "    above to convert from vocab characters to the corresponding indices.\n",
        "\n",
        "  NOTE: the output of the `vectorize_string` function\n",
        "  should be a np.array with `N` elements, where `N` is\n",
        "  the number of characters in the input string\n",
        "'''\n",
        "def vectorize_string(string):\n",
        "  vectorized_output = np.array([char2idx[char] for char in string])\n",
        "  return vectorized_output\n",
        "\n",
        "vectorized_songs = vectorize_string(songs_joined)"
      ],
      "metadata": {
        "id": "3lHica3VktMe"
      },
      "execution_count": null,
      "outputs": []
    },
    {
      "cell_type": "code",
      "source": [
        "print ('{} ---- characters mapped to int ----> {}'.format(repr(songs_joined[:10]), vectorized_songs[:10]))\n",
        "# check that vectorized_songs is a numpy array\n",
        "assert isinstance(vectorized_songs, np.ndarray), \"returned result should be a numpy array\""
      ],
      "metadata": {
        "id": "-PKNWAF6k_C8"
      },
      "execution_count": null,
      "outputs": []
    },
    {
      "cell_type": "code",
      "source": [
        "### Batch definition to create training examples ###\n",
        "\n",
        "def get_batch(vectorized_songs, seq_length, batch_size):\n",
        "    # the length of the vectorized songs string\n",
        "    n = vectorized_songs.shape[0] - 1\n",
        "    # randomly choose the starting indices for the examples in the training batch\n",
        "    idx = np.random.choice(n - seq_length, batch_size)\n",
        "    input_batch = [vectorized_songs[i : i + seq_length] for i in idx]\n",
        "    output_batch = [vectorized_songs[i + 1 : i + seq_length + 1] for i in idx]\n",
        "\n",
        "    # Convert the input and output batches to tensors\n",
        "    x_batch = torch.tensor(input_batch, dtype=torch.long)\n",
        "    y_batch = torch.tensor(output_batch, dtype=torch.long)\n",
        "\n",
        "    return x_batch, y_batch\n",
        "\n",
        "# Perform some simple tests to make sure your batch function is working properly!\n",
        "test_args = (vectorized_songs, 10, 2)\n",
        "x_batch, y_batch = get_batch(*test_args)\n",
        "assert x_batch.shape == (2, 10), \"x_batch shape is incorrect\"\n",
        "assert y_batch.shape == (2, 10), \"y_batch shape is incorrect\"\n",
        "print(\"Batch function works correctly!\")"
      ],
      "metadata": {
        "id": "FISgml5LlARa",
        "colab": {
          "base_uri": "https://localhost:8080/"
        },
        "outputId": "627804e8-aa8c-4804-ae2a-725ae55e5584"
      },
      "execution_count": 33,
      "outputs": [
        {
          "output_type": "stream",
          "name": "stdout",
          "text": [
            "Batch function works correctly!\n"
          ]
        }
      ]
    },
    {
      "cell_type": "code",
      "source": [
        "x_batch, y_batch = get_batch(vectorized_songs, seq_length=5, batch_size=1)\n",
        "\n",
        "for i, (input_idx, target_idx) in enumerate(zip(x_batch[0], y_batch[0])):\n",
        "    print(\"Step {:3d}\".format(i))\n",
        "    print(\"  input: {} ({:s})\".format(input_idx, repr(idx2char[input_idx.item()])))\n",
        "    print(\"  expected output: {} ({:s})\".format(target_idx, repr(idx2char[target_idx.item()])))"
      ],
      "metadata": {
        "id": "ldLs0-gClSNB",
        "colab": {
          "base_uri": "https://localhost:8080/"
        },
        "outputId": "803e4195-d0c8-4d9c-ab9b-295c7dd3235b"
      },
      "execution_count": 34,
      "outputs": [
        {
          "output_type": "stream",
          "name": "stdout",
          "text": [
            "Step   0\n",
            "  input: 60 (np.str_('e'))\n",
            "  expected output: 62 (np.str_('g'))\n",
            "Step   1\n",
            "  input: 62 (np.str_('g'))\n",
            "  expected output: 60 (np.str_('e'))\n",
            "Step   2\n",
            "  input: 60 (np.str_('e'))\n",
            "  expected output: 1 (np.str_(' '))\n",
            "Step   3\n",
            "  input: 1 (np.str_(' '))\n",
            "  expected output: 59 (np.str_('d'))\n",
            "Step   4\n",
            "  input: 59 (np.str_('d'))\n",
            "  expected output: 27 (np.str_('B'))\n"
          ]
        }
      ]
    },
    {
      "cell_type": "code",
      "source": [
        "class LSTMModel(nn.Module):\n",
        "    def __init__(self, vocab_size, embedding_dim, hidden_size):\n",
        "        super(LSTMModel, self).__init__()\n",
        "        self.hidden_size = hidden_size\n",
        "\n",
        "        # Define each of the network layers\n",
        "        # Layer 1: Embedding layer to transform indices into dense vectors\n",
        "        #   of a fixed embedding size\n",
        "        self.embedding = nn.Embedding(vocab_size, embedding_dim)\n",
        "\n",
        "        '''TODO: Layer 2: LSTM with hidden_size `hidden_size`. note: number of layers defaults to 1.\n",
        "         Use the nn.LSTM() module from pytorch.'''\n",
        "        self.lstm = nn.LSTM(embedding_dim, hidden_size) # TODO\n",
        "\n",
        "        '''TODO: Layer 3: Linear (fully-connected) layer that transforms the LSTM output\n",
        "        #   into the vocabulary size.'''\n",
        "        self.fc = nn.Linear(hidden_size, vocab_size)  # TODO\n",
        "\n",
        "    def init_hidden(self, batch_size, device):\n",
        "        # Initialize hidden state and cell state with zeros\n",
        "        return (torch.zeros(1, batch_size, self.hidden_size).to(device),\n",
        "                torch.zeros(1, batch_size, self.hidden_size).to(device))\n",
        "\n",
        "    def forward(self, x, state=None, return_state=False):\n",
        "        x = self.embedding(x)\n",
        "\n",
        "        if state is None:\n",
        "            state = self.init_hidden(x.size(1), x.device)\n",
        "        out, state = self.lstm(x, state)\n",
        "\n",
        "        out = self.fc(out)\n",
        "        return out if not return_state else (out, state)"
      ],
      "metadata": {
        "id": "PT_IIsqilVY7"
      },
      "execution_count": 35,
      "outputs": []
    },
    {
      "cell_type": "code",
      "source": [
        "# Instantiate the model! Build a simple model with default hyperparameters. You\n",
        "#     will get the chance to change these later.\n",
        "vocab_size = len(vocab)\n",
        "embedding_dim = 256\n",
        "hidden_size = 1024\n",
        "batch_size = 8\n",
        "\n",
        "device = torch.device(\"cuda\" if torch.cuda.is_available() else \"cpu\")\n",
        "\n",
        "model = LSTMModel(vocab_size, embedding_dim, hidden_size).to(device)\n",
        "\n",
        "# print out a summary of the model\n",
        "print(model)"
      ],
      "metadata": {
        "id": "dupyE1eUli9Y",
        "colab": {
          "base_uri": "https://localhost:8080/"
        },
        "outputId": "712f4148-7a18-41aa-d7c5-4fc2e135f8cf"
      },
      "execution_count": 36,
      "outputs": [
        {
          "output_type": "stream",
          "name": "stdout",
          "text": [
            "LSTMModel(\n",
            "  (embedding): Embedding(83, 256)\n",
            "  (lstm): LSTM(256, 1024)\n",
            "  (fc): Linear(in_features=1024, out_features=83, bias=True)\n",
            ")\n"
          ]
        }
      ]
    },
    {
      "cell_type": "code",
      "source": [
        "# Test the model with some sample data\n",
        "x, y = get_batch(vectorized_songs, seq_length=100, batch_size=32)\n",
        "x = x.to(device)\n",
        "y = y.to(device)\n",
        "\n",
        "pred = model(x)\n",
        "print(\"Input shape:      \", x.shape, \" # (batch_size, sequence_length)\")\n",
        "print(\"Prediction shape: \", pred.shape, \"# (batch_size, sequence_length, vocab_size)\")"
      ],
      "metadata": {
        "id": "v-haqvmolxe1",
        "colab": {
          "base_uri": "https://localhost:8080/"
        },
        "outputId": "bd758d73-d115-440a-8b7e-3d305722f48f"
      },
      "execution_count": 37,
      "outputs": [
        {
          "output_type": "stream",
          "name": "stdout",
          "text": [
            "Input shape:       torch.Size([32, 100])  # (batch_size, sequence_length)\n",
            "Prediction shape:  torch.Size([32, 100, 83]) # (batch_size, sequence_length, vocab_size)\n"
          ]
        }
      ]
    },
    {
      "cell_type": "code",
      "source": [
        "sampled_indices = torch.multinomial(torch.softmax(pred[0], dim=-1), num_samples=1)\n",
        "sampled_indices = sampled_indices.squeeze(-1).cpu().numpy()\n",
        "sampled_indices"
      ],
      "metadata": {
        "id": "GP1_WFWMmFVI",
        "colab": {
          "base_uri": "https://localhost:8080/"
        },
        "outputId": "62c3ce99-5b51-465d-e921-7802f2f988bd"
      },
      "execution_count": 38,
      "outputs": [
        {
          "output_type": "execute_result",
          "data": {
            "text/plain": [
              "array([20, 74, 39, 37, 52, 66, 69, 48, 79, 66, 45,  1, 66, 14, 48, 31, 24,\n",
              "       46, 60,  4, 11, 62, 16, 57, 75, 74,  9, 67, 66, 46, 70, 44, 36,  4,\n",
              "        3, 51, 28, 59, 18,  7,  7, 26, 48, 25,  3, 62, 73, 47, 44, 69, 76,\n",
              "       19, 11, 36, 60, 70, 29,  5, 45, 47, 28, 13, 39,  3, 13, 12, 57,  6,\n",
              "       59, 66, 41, 52, 11, 72, 16, 36, 63, 65, 58, 22, 64, 64, 24, 42, 30,\n",
              "       30, 62, 32, 32, 33, 48, 73, 46, 72, 75, 24, 31, 18, 37, 25])"
            ]
          },
          "metadata": {},
          "execution_count": 38
        }
      ]
    },
    {
      "cell_type": "code",
      "source": [
        "print(\"Input: \\n\", repr(\"\".join(idx2char[x[0].cpu()])))\n",
        "print()\n",
        "print(\"Next Char Predictions: \\n\", repr(\"\".join(idx2char[sampled_indices])))"
      ],
      "metadata": {
        "id": "8yb8XgyKmI0E",
        "colab": {
          "base_uri": "https://localhost:8080/"
        },
        "outputId": "3948acc3-004c-4649-83d0-b15549f57ec3"
      },
      "execution_count": 39,
      "outputs": [
        {
          "output_type": "stream",
          "name": "stdout",
          "text": [
            "Input: \n",
            " \"\\nT:Martin Wynne's No. 1\\nZ: id:dc-reel-196\\nM:C\\nL:1/8\\nK:D Major\\nB|AFF2 GEE2|DFF2 EFDB|ABDE F3B|ABde fe\"\n",
            "\n",
            "Next Char Predictions: \n",
            " '8sNL[knWxkT k2WF=Ue#/g4bts-lkUoSK#\"ZCd6))AW>\"grVSnu7/KeoD\\'TVC1N\"10b(dkP[/q4Khjc:ii=QEEgGGHWrUqt=F6L>'\n"
          ]
        }
      ]
    },
    {
      "cell_type": "code",
      "source": [
        "cross_entropy = nn.CrossEntropyLoss() # instantiates the function\n",
        "def compute_loss(labels, logits):\n",
        "    \"\"\"\n",
        "    Inputs:\n",
        "      labels: (batch_size, sequence_length)\n",
        "      logits: (batch_size, sequence_length, vocab_size)\n",
        "\n",
        "    Output:\n",
        "      loss: scalar cross entropy loss over the batch and sequence length\n",
        "    \"\"\"\n",
        "\n",
        "    # Batch the labels so that the shape of the labels should be (B * L,)\n",
        "    batched_labels = labels.view(-1)\n",
        "\n",
        "    ''' TODO: Batch the logits so that the shape of the logits should be (B * L, V) '''\n",
        "    batched_logits = logits.view(-1, logits.shape[-1])  # TODO\n",
        "\n",
        "    '''TODO: Compute the cross-entropy loss using the batched  next characters and predictions'''\n",
        "    loss = cross_entropy(batched_logits, batched_labels) # TODO\n",
        "    return loss"
      ],
      "metadata": {
        "id": "ZeyIZEG3mMSN"
      },
      "execution_count": 40,
      "outputs": []
    },
    {
      "cell_type": "code",
      "source": [
        "y.shape  # (batch_size, sequence_length)\n",
        "pred.shape  # (batch_size, sequence_length, vocab_size)\n",
        "\n",
        "'''TODO: compute the loss using the true next characters from the example batch\n",
        "    and the predictions from the untrained model several cells above'''\n",
        "example_batch_loss = compute_loss(y, pred) # TODO\n",
        "\n",
        "print(f\"Prediction shape: {pred.shape} # (batch_size, sequence_length, vocab_size)\")\n",
        "print(f\"scalar_loss:      {example_batch_loss.item()}\")"
      ],
      "metadata": {
        "id": "Cx-OqxL1mUpF",
        "colab": {
          "base_uri": "https://localhost:8080/"
        },
        "outputId": "a824d683-36a1-4d4a-afe0-9de6b630be0c"
      },
      "execution_count": 41,
      "outputs": [
        {
          "output_type": "stream",
          "name": "stdout",
          "text": [
            "Prediction shape: torch.Size([32, 100, 83]) # (batch_size, sequence_length, vocab_size)\n",
            "scalar_loss:      4.428513050079346\n"
          ]
        }
      ]
    },
    {
      "cell_type": "code",
      "source": [
        "### Hyperparameter setting and optimization ###\n",
        "\n",
        "vocab_size = len(vocab)\n",
        "\n",
        "# Model parameters:\n",
        "params = dict(\n",
        "  num_training_iterations = 3000,  # Increase this to train longer\n",
        "  batch_size = 8,  # Experiment between 1 and 64\n",
        "  seq_length = 100,  # Experiment between 50 and 500\n",
        "  learning_rate = 5e-3,  # Experiment between 1e-5 and 1e-1\n",
        "  embedding_dim = 256,\n",
        "  hidden_size = 1024,  # Experiment between 1 and 2048\n",
        ")\n",
        "\n",
        "# Checkpoint location:\n",
        "checkpoint_dir = './training_checkpoints'\n",
        "checkpoint_prefix = os.path.join(checkpoint_dir, \"my_ckpt\")\n",
        "os.makedirs(checkpoint_dir, exist_ok=True)"
      ],
      "metadata": {
        "id": "U2nkXeLbmao8"
      },
      "execution_count": 42,
      "outputs": []
    },
    {
      "cell_type": "code",
      "source": [
        "### Create a Comet experiment to track our training run ###\n",
        "\n",
        "def create_experiment():\n",
        "  # end any prior experiments\n",
        "  if 'experiment' in locals():\n",
        "    experiment.end()\n",
        "\n",
        "  # initiate the comet experiment for tracking\n",
        "  experiment = comet_ml.Experiment(\n",
        "                  api_key=COMET_API_KEY,\n",
        "                  project_name=\"6S191_Lab1_Part2\")\n",
        "  # log our hyperparameters, defined above, to the experiment\n",
        "  for param, value in params.items():\n",
        "    experiment.log_parameter(param, value)\n",
        "  experiment.flush()\n",
        "\n",
        "  return experiment"
      ],
      "metadata": {
        "id": "daKz-axLmeaW"
      },
      "execution_count": 43,
      "outputs": []
    },
    {
      "cell_type": "code",
      "source": [
        "'''TODO: instantiate a new LSTMModel model for training using the hyperparameters\n",
        "    created above.'''\n",
        "model = LSTMModel(vocab_size, params['embedding_dim'], params['hidden_size'])  # TODO: arguments\n",
        "\n",
        "# Move the model to the GPU\n",
        "model.to(device)\n",
        "\n",
        "'''TODO: instantiate an optimizer with its learning rate.\n",
        "  Checkout the PyTorch website for a list of supported optimizers.\n",
        "  https://pytorch.org/docs/stable/optim.html\n",
        "  Try using the Adam optimizer to start.'''\n",
        "optimizer = optim.Adam(model.parameters(), lr=params['learning_rate'])  # TODO\n",
        "\n",
        "def train_step(x, y):\n",
        "    # Set the model's mode to train\n",
        "    model.train()\n",
        "\n",
        "    # Zero gradients for every step\n",
        "    optimizer.zero_grad()\n",
        "\n",
        "    # Forward pass\n",
        "    '''TODO: feed the current input into the model and generate predictions'''\n",
        "    y_hat = model(x)  # TODO\n",
        "\n",
        "    # Compute the loss\n",
        "    '''TODO: compute the loss!'''\n",
        "    loss = compute_loss(y, y_hat)  # TODO\n",
        "\n",
        "    # Backward pass\n",
        "    '''TODO: complete the gradient computation and update step.\n",
        "    Remember that in PyTorch there are two steps to the training loop:\n",
        "    1. Backpropagate the loss\n",
        "    2. Update the model parameters using the optimizer\n",
        "    '''\n",
        "    loss.backward()  # TODO\n",
        "    optimizer.step()  # TODO\n",
        "\n",
        "    return loss\n",
        "\n",
        "# ... (rest of the code remains the same)\n",
        "history = []\n",
        "plotter = mdl.util.PeriodicPlotter(sec=2, xlabel='Iterations', ylabel='Loss')\n",
        "experiment = create_experiment()\n",
        "\n",
        "if hasattr(tqdm, '_instances'): tqdm._instances.clear() # clear if it exists\n",
        "for iter in tqdm(range(params[\"num_training_iterations\"])):\n",
        "\n",
        "    # Grab a batch and propagate it through the network\n",
        "    x_batch, y_batch = get_batch(vectorized_songs, params[\"seq_length\"], params[\"batch_size\"])\n",
        "\n",
        "    # Convert numpy arrays to PyTorch tensors\n",
        "    x_batch = torch.tensor(x_batch, dtype=torch.long).to(device)\n",
        "    y_batch = torch.tensor(y_batch, dtype=torch.long).to(device)\n",
        "\n",
        "    # Take a train step\n",
        "    loss = train_step(x_batch, y_batch)\n",
        "\n",
        "    # Log the loss to the Comet interface\n",
        "    experiment.log_metric(\"loss\", loss.item(), step=iter)\n",
        "\n",
        "    # Update the progress bar and visualize within notebook\n",
        "    history.append(loss.item())\n",
        "    plotter.plot(history)\n",
        "\n",
        "    # Save model checkpoint\n",
        "    if iter % 100 == 0:\n",
        "        torch.save(model.state_dict(), checkpoint_prefix)\n",
        "\n",
        "# Save the final trained model\n",
        "torch.save(model.state_dict(), checkpoint_prefix)\n",
        "experiment.flush()"
      ],
      "metadata": {
        "id": "NbvI6po-miTy",
        "colab": {
          "base_uri": "https://localhost:8080/",
          "height": 934
        },
        "outputId": "1a59de57-3ef2-43a9-a27a-a9e4ce9dada0"
      },
      "execution_count": 44,
      "outputs": [
        {
          "output_type": "display_data",
          "data": {
            "text/plain": [
              "<Figure size 640x480 with 1 Axes>"
            ],
            "image/png": "[encoded data removed]"
          },
          "metadata": {}
        },
        {
          "output_type": "stream",
          "name": "stderr",
          "text": [
            "100%|██████████| 3000/3000 [00:38<00:00, 77.91it/s]\n",
            "\u001b[1;38;5;39mCOMET INFO:\u001b[0m Uploading 248 metrics, params and output messages\n"
          ]
        },
        {
          "output_type": "execute_result",
          "data": {
            "text/plain": [
              "True"
            ]
          },
          "metadata": {},
          "execution_count": 44
        },
        {
          "output_type": "display_data",
          "data": {
            "text/plain": [
              "<Figure size 640x480 with 1 Axes>"
            ],
            "image/png": "[encoded data removed]"
          },
          "metadata": {}
        }
      ]
    },
    {
      "cell_type": "code",
      "source": [
        "def generate_text(model, start_string, generation_length=1000):\n",
        "  # Evaluation step (generating ABC text using the learned RNN model)\n",
        "\n",
        "  '''TODO: convert the start string to numbers (vectorize)'''\n",
        "  input_idx = [char2idx[s] for s in start_string]  # TODO\n",
        "  input_idx = torch.tensor([input_idx], dtype=torch.long).to(device)\n",
        "\n",
        "  # Initialize the hidden state\n",
        "  state = model.init_hidden(input_idx.size(0), device)\n",
        "\n",
        "  # Empty string to store our results\n",
        "  text_generated = []\n",
        "  tqdm._instances.clear()\n",
        "\n",
        "  for i in tqdm(range(generation_length)):\n",
        "    '''TODO: evaluate the inputs and generate the next character predictions'''\n",
        "    predictions, state = model(input_idx, state, return_state=True)  # TODO\n",
        "\n",
        "    # Remove the batch dimension\n",
        "    predictions = predictions.squeeze(0)\n",
        "\n",
        "    '''TODO: use a multinomial distribution to sample over the probabilities'''\n",
        "    predicted_idx = torch.multinomial(torch.softmax(predictions[-1], dim=-1), num_samples=1).item()  # TODO\n",
        "\n",
        "    '''TODO: add the predicted character to the generated text!'''\n",
        "    # Hint: consider what format the prediction is in vs. the output\n",
        "    text_generated.append(idx2char[predicted_idx])  # TODO\n",
        "\n",
        "    # Pass the prediction to the model\n",
        "    input_idx = torch.tensor([[predicted_idx]], dtype=torch.long).to(device)\n",
        "\n",
        "  return (start_string + ''.join(text_generated))"
      ],
      "metadata": {
        "id": "qEtgX7HOnA35"
      },
      "execution_count": 46,
      "outputs": []
    },
    {
      "cell_type": "code",
      "source": [
        "'''TODO: Use the model and the function defined above to generate ABC format text of length 1000!\n",
        "    As you may notice, ABC files start with \"X\" - this may be a good start string.'''\n",
        "generated_text = generate_text(model, \"X\", generation_length=1000) # TODO"
      ],
      "metadata": {
        "id": "iOVSy-MNnh5n",
        "colab": {
          "base_uri": "https://localhost:8080/"
        },
        "outputId": "da1c7d72-832a-47dc-8652-2fac24089972"
      },
      "execution_count": 47,
      "outputs": [
        {
          "output_type": "stream",
          "name": "stderr",
          "text": [
            "100%|██████████| 1000/1000 [00:00<00:00, 1171.61it/s]\n"
          ]
        }
      ]
    },
    {
      "cell_type": "code",
      "source": [
        "### Play back generated songs ###\n",
        "\n",
        "generated_songs = mdl.lab1.extract_song_snippet(generated_text)\n",
        "\n",
        "for i, song in enumerate(generated_songs):\n",
        "  # Synthesize the waveform from a song\n",
        "  waveform = mdl.lab1.play_song(song)\n",
        "\n",
        "  # If its a valid song (correct syntax), lets play it!\n",
        "  if waveform:\n",
        "    print(\"Generated song\", i)\n",
        "    ipythondisplay.display(waveform)\n",
        "\n",
        "    numeric_data = np.frombuffer(waveform.data, dtype=np.int16)\n",
        "    wav_file_path = f\"output_{i}.wav\"\n",
        "    write(wav_file_path, 88200, numeric_data)\n",
        "\n",
        "    # save your song to the Comet interface -- you can access it there\n",
        "    experiment.log_asset(wav_file_path)"
      ],
      "metadata": {
        "id": "3dl2MNKEnrwy",
        "colab": {
          "base_uri": "https://localhost:8080/"
        },
        "outputId": "05723725-c3fa-4cbc-9613-2c1a453b1631"
      },
      "execution_count": 48,
      "outputs": [
        {
          "output_type": "stream",
          "name": "stdout",
          "text": [
            "Found 5 songs in text\n"
          ]
        }
      ]
    },
    {
      "cell_type": "code",
      "source": [
        "experiment.end()"
      ],
      "metadata": {
        "id": "tO15ZtIlouJG",
        "colab": {
          "base_uri": "https://localhost:8080/"
        },
        "outputId": "2a859422-21a9-4cf6-dce0-a928d9a4f604"
      },
      "execution_count": 49,
      "outputs": [
        {
          "output_type": "stream",
          "name": "stderr",
          "text": [
            "\u001b[1;38;5;39mCOMET INFO:\u001b[0m ---------------------------------------------------------------------------------------\n",
            "\u001b[1;38;5;39mCOMET INFO:\u001b[0m Comet.ml Experiment Summary\n",
            "\u001b[1;38;5;39mCOMET INFO:\u001b[0m ---------------------------------------------------------------------------------------\n",
            "\u001b[1;38;5;39mCOMET INFO:\u001b[0m   Data:\n",
            "\u001b[1;38;5;39mCOMET INFO:\u001b[0m     display_summary_level : 1\n",
            "\u001b[1;38;5;39mCOMET INFO:\u001b[0m     name                  : favourite_dormouse_3043\n",
            "\u001b[1;38;5;39mCOMET INFO:\u001b[0m     url                   : https://www.comet.com/code2aum/6s191-lab1-part2/fc74687e940c4319a149eefd22b3d5dc\n",
            "\u001b[1;38;5;39mCOMET INFO:\u001b[0m   Metrics [count] (min, max):\n",
            "\u001b[1;38;5;39mCOMET INFO:\u001b[0m     loss [3300] : (2.2351768016815186, 4.424993991851807)\n",
            "\u001b[1;38;5;39mCOMET INFO:\u001b[0m   Others:\n",
            "\u001b[1;38;5;39mCOMET INFO:\u001b[0m     notebook_url : https://colab.research.google.com/notebook#fileId=1OkCR0_nc8dD3vUSEOOnIfsHaILDhnA0y\n",
            "\u001b[1;38;5;39mCOMET INFO:\u001b[0m   Parameters:\n",
            "\u001b[1;38;5;39mCOMET INFO:\u001b[0m     batch_size              : 8\n",
            "\u001b[1;38;5;39mCOMET INFO:\u001b[0m     embedding_dim           : 256\n",
            "\u001b[1;38;5;39mCOMET INFO:\u001b[0m     hidden_size             : 1024\n",
            "\u001b[1;38;5;39mCOMET INFO:\u001b[0m     learning_rate           : 0.005\n",
            "\u001b[1;38;5;39mCOMET INFO:\u001b[0m     num_training_iterations : 3000\n",
            "\u001b[1;38;5;39mCOMET INFO:\u001b[0m     seq_length              : 100\n",
            "\u001b[1;38;5;39mCOMET INFO:\u001b[0m   Uploads:\n",
            "\u001b[1;38;5;39mCOMET INFO:\u001b[0m     environment details : 1\n",
            "\u001b[1;38;5;39mCOMET INFO:\u001b[0m     filename            : 1\n",
            "\u001b[1;38;5;39mCOMET INFO:\u001b[0m     installed packages  : 1\n",
            "\u001b[1;38;5;39mCOMET INFO:\u001b[0m     notebook            : 2\n",
            "\u001b[1;38;5;39mCOMET INFO:\u001b[0m     os packages         : 1\n",
            "\u001b[1;38;5;39mCOMET INFO:\u001b[0m     source_code         : 1\n",
            "\u001b[1;38;5;39mCOMET INFO:\u001b[0m \n"
          ]
        }
      ]
    }
  ]
}